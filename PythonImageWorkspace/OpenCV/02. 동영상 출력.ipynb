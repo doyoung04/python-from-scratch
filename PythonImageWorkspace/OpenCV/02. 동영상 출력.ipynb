{
 "cells": [
  {
   "cell_type": "markdown",
   "id": "75ad9137",
   "metadata": {},
   "source": [
    "# 2. 동영상 출력"
   ]
  },
  {
   "cell_type": "markdown",
   "id": "b972a440",
   "metadata": {},
   "source": [
    "## 동영상 파일 출력"
   ]
  },
  {
   "cell_type": "markdown",
   "id": "5292c331",
   "metadata": {},
   "source": [
    "예제 동영상 : https://www.pexels.com/video/7515833/  \n",
    "크기 : SD (360 x 640)  \n",
    "파일명 : video.mp4"
   ]
  },
  {
   "cell_type": "code",
   "execution_count": 3,
   "id": "6c9c2bc1",
   "metadata": {},
   "outputs": [
    {
     "name": "stdout",
     "output_type": "stream",
     "text": [
      "더 이상 가져올 프레임이 없어요\n"
     ]
    },
    {
     "data": {
      "text/plain": [
       "-1"
      ]
     },
     "execution_count": 3,
     "metadata": {},
     "output_type": "execute_result"
    }
   ],
   "source": [
    "import cv2\n",
    "cap = cv2.VideoCapture('video.mp4')\n",
    "\n",
    "while cap.isOpened(): # 동영상 파일이 올바로 열렸는지?\n",
    "    ret, frame = cap.read() # ret : 성공 여부,  frame : 받아온 이미지 (프레임)\n",
    "    if not ret:\n",
    "        print('더 이상 가져올 프레임이 없어요')\n",
    "        break\n",
    "        \n",
    "    cv2.imshow('video', frame)\n",
    "    \n",
    "    if cv2.waitKey(1) == ord('q'):\n",
    "        print('사용자 입력에 의해 종료합니다')\n",
    "        break\n",
    "        \n",
    "cap.release() # 자원 해제\n",
    "cv2.destroyAllWindows() # 모든 창 닫기\n",
    "cv2.waitKey(1)\n",
    "cv2.waitKey(1)\n",
    "cv2.waitKey(1)\n",
    "cv2.waitKey(1)"
   ]
  },
  {
   "cell_type": "markdown",
   "id": "b21d35cc",
   "metadata": {},
   "source": [
    "## 카메라 출력"
   ]
  },
  {
   "cell_type": "code",
   "execution_count": 4,
   "id": "ecaa8fb6",
   "metadata": {},
   "outputs": [
    {
     "ename": "KeyboardInterrupt",
     "evalue": "",
     "output_type": "error",
     "traceback": [
      "\u001b[0;31m---------------------------------------------------------------------------\u001b[0m",
      "\u001b[0;31mKeyboardInterrupt\u001b[0m                         Traceback (most recent call last)",
      "\u001b[1;32m/Users/KDY/Workspace/python/python-from-scratch/PythonImageWorkspace/OpenCV/02. 동영상 출력.ipynb Cell 6'\u001b[0m in \u001b[0;36m<cell line: 9>\u001b[0;34m()\u001b[0m\n\u001b[1;32m     <a href='vscode-notebook-cell:/Users/KDY/Workspace/python/python-from-scratch/PythonImageWorkspace/OpenCV/02.%20%EB%8F%99%EC%98%81%EC%83%81%20%EC%B6%9C%EB%A0%A5.ipynb#ch0000005?line=10'>11</a>\u001b[0m         \u001b[39mbreak\u001b[39;00m\n\u001b[1;32m     <a href='vscode-notebook-cell:/Users/KDY/Workspace/python/python-from-scratch/PythonImageWorkspace/OpenCV/02.%20%EB%8F%99%EC%98%81%EC%83%81%20%EC%B6%9C%EB%A0%A5.ipynb#ch0000005?line=12'>13</a>\u001b[0m     cv2\u001b[39m.\u001b[39mimshow(\u001b[39m'\u001b[39m\u001b[39mcamera\u001b[39m\u001b[39m'\u001b[39m, frame)\n\u001b[0;32m---> <a href='vscode-notebook-cell:/Users/KDY/Workspace/python/python-from-scratch/PythonImageWorkspace/OpenCV/02.%20%EB%8F%99%EC%98%81%EC%83%81%20%EC%B6%9C%EB%A0%A5.ipynb#ch0000005?line=13'>14</a>\u001b[0m     \u001b[39mif\u001b[39;00m cv2\u001b[39m.\u001b[39;49mwaitKey(\u001b[39m1\u001b[39;49m) \u001b[39m==\u001b[39m \u001b[39mord\u001b[39m(\u001b[39m'\u001b[39m\u001b[39mq\u001b[39m\u001b[39m'\u001b[39m): \u001b[39m# 사용자가 q 를 입력하면 \u001b[39;00m\n\u001b[1;32m     <a href='vscode-notebook-cell:/Users/KDY/Workspace/python/python-from-scratch/PythonImageWorkspace/OpenCV/02.%20%EB%8F%99%EC%98%81%EC%83%81%20%EC%B6%9C%EB%A0%A5.ipynb#ch0000005?line=14'>15</a>\u001b[0m         \u001b[39mbreak\u001b[39;00m\n\u001b[1;32m     <a href='vscode-notebook-cell:/Users/KDY/Workspace/python/python-from-scratch/PythonImageWorkspace/OpenCV/02.%20%EB%8F%99%EC%98%81%EC%83%81%20%EC%B6%9C%EB%A0%A5.ipynb#ch0000005?line=16'>17</a>\u001b[0m cap\u001b[39m.\u001b[39mrelease()\n",
      "\u001b[0;31mKeyboardInterrupt\u001b[0m: "
     ]
    }
   ],
   "source": [
    "import cv2\n",
    "cap = cv2.VideoCapture(0) # 0번째 카메라 장치 (Device ID)\n",
    "\n",
    "if not cap.isOpened(): # 카메라가 잘 열리지 않은 경우\n",
    "    print(\"Failed\")\n",
    "    exit() # 프로그램 종료\n",
    "    \n",
    "while True:\n",
    "    ret, frame = cap.read()\n",
    "    if not ret:\n",
    "        break\n",
    "        \n",
    "    cv2.imshow('camera', frame)\n",
    "    if cv2.waitKey(1) == ord('q'): # 사용자가 q 를 입력하면 \n",
    "        break\n",
    "        \n",
    "cap.release()\n",
    "cv2.destroyAllWindows()\n",
    "cv2.waitKey(1)\n",
    "cv2.waitKey(1)\n",
    "cv2.waitKey(1)\n",
    "cv2.waitKey(1)"
   ]
  }
 ],
 "metadata": {
  "kernelspec": {
   "display_name": "Python 3",
   "language": "python",
   "name": "python3"
  },
  "language_info": {
   "codemirror_mode": {
    "name": "ipython",
    "version": 3
   },
   "file_extension": ".py",
   "mimetype": "text/x-python",
   "name": "python",
   "nbconvert_exporter": "python",
   "pygments_lexer": "ipython3",
   "version": "3.8.9"
  }
 },
 "nbformat": 4,
 "nbformat_minor": 5
}
