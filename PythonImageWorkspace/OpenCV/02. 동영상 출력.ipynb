{
 "cells": [
  {
   "cell_type": "markdown",
   "id": "75ad9137",
   "metadata": {},
   "source": [
    "# 2. 동영상 출력"
   ]
  },
  {
   "cell_type": "markdown",
   "id": "b972a440",
   "metadata": {},
   "source": [
    "## 동영상 파일 출력"
   ]
  },
  {
   "cell_type": "markdown",
   "id": "5292c331",
   "metadata": {},
   "source": [
    "예제 동영상 : https://www.pexels.com/video/7515833/  \n",
    "크기 : SD (360 x 640)  \n",
    "파일명 : video.mp4"
   ]
  },
  {
   "cell_type": "code",
   "execution_count": 1,
   "id": "cc9a4af0",
   "metadata": {},
   "outputs": [
    {
     "name": "stdout",
     "output_type": "stream",
     "text": [
      "Defaulting to user installation because normal site-packages is not writeable\n",
      "Requirement already satisfied: ipykernel in /Users/KDY/Library/Python/3.8/lib/python/site-packages (6.9.1)\n",
      "Collecting ipykernel\n",
      "  Downloading ipykernel-6.12.0-py3-none-any.whl (130 kB)\n",
      "\u001b[2K     \u001b[90m━━━━━━━━━━━━━━━━━━━━━━━━━━━━━━━━━━━━━━━\u001b[0m \u001b[32m130.9/130.9 KB\u001b[0m \u001b[31m3.0 MB/s\u001b[0m eta \u001b[36m0:00:00\u001b[0ma \u001b[36m0:00:01\u001b[0m\n",
      "\u001b[?25hRequirement already satisfied: debugpy>=1.0 in /Users/KDY/Library/Python/3.8/lib/python/site-packages (from ipykernel) (1.5.1)\n",
      "Requirement already satisfied: ipython>=7.23.1 in /Users/KDY/Library/Python/3.8/lib/python/site-packages (from ipykernel) (8.1.1)\n",
      "Requirement already satisfied: traitlets>=5.1.0 in /Users/KDY/Library/Python/3.8/lib/python/site-packages (from ipykernel) (5.1.1)\n",
      "Collecting psutil\n",
      "  Using cached psutil-5.9.0.tar.gz (478 kB)\n",
      "  Preparing metadata (setup.py) ... \u001b[?25ldone\n",
      "\u001b[?25hRequirement already satisfied: packaging in /Users/KDY/Library/Python/3.8/lib/python/site-packages (from ipykernel) (21.3)\n",
      "Requirement already satisfied: jupyter-client>=6.1.12 in /Users/KDY/Library/Python/3.8/lib/python/site-packages (from ipykernel) (7.1.2)\n",
      "Requirement already satisfied: appnope in /Users/KDY/Library/Python/3.8/lib/python/site-packages (from ipykernel) (0.1.2)\n",
      "Requirement already satisfied: tornado>=6.1 in /Users/KDY/Library/Python/3.8/lib/python/site-packages (from ipykernel) (6.1)\n",
      "Requirement already satisfied: matplotlib-inline>=0.1 in /Users/KDY/Library/Python/3.8/lib/python/site-packages (from ipykernel) (0.1.3)\n",
      "Requirement already satisfied: nest-asyncio in /Users/KDY/Library/Python/3.8/lib/python/site-packages (from ipykernel) (1.5.4)\n",
      "Requirement already satisfied: stack-data in /Users/KDY/Library/Python/3.8/lib/python/site-packages (from ipython>=7.23.1->ipykernel) (0.2.0)\n",
      "Requirement already satisfied: pygments>=2.4.0 in /Users/KDY/Library/Python/3.8/lib/python/site-packages (from ipython>=7.23.1->ipykernel) (2.11.2)\n",
      "Requirement already satisfied: jedi>=0.16 in /Users/KDY/Library/Python/3.8/lib/python/site-packages (from ipython>=7.23.1->ipykernel) (0.18.1)\n",
      "Requirement already satisfied: prompt-toolkit!=3.0.0,!=3.0.1,<3.1.0,>=2.0.0 in /Users/KDY/Library/Python/3.8/lib/python/site-packages (from ipython>=7.23.1->ipykernel) (3.0.28)\n",
      "Requirement already satisfied: pickleshare in /Users/KDY/Library/Python/3.8/lib/python/site-packages (from ipython>=7.23.1->ipykernel) (0.7.5)\n",
      "Requirement already satisfied: decorator in /Users/KDY/Library/Python/3.8/lib/python/site-packages (from ipython>=7.23.1->ipykernel) (5.1.1)\n",
      "Requirement already satisfied: pexpect>4.3 in /Users/KDY/Library/Python/3.8/lib/python/site-packages (from ipython>=7.23.1->ipykernel) (4.8.0)\n",
      "Requirement already satisfied: backcall in /Users/KDY/Library/Python/3.8/lib/python/site-packages (from ipython>=7.23.1->ipykernel) (0.2.0)\n",
      "Requirement already satisfied: setuptools>=18.5 in /Library/Developer/CommandLineTools/Library/Frameworks/Python3.framework/Versions/3.8/lib/python3.8/site-packages (from ipython>=7.23.1->ipykernel) (49.2.1)\n",
      "Requirement already satisfied: entrypoints in /Users/KDY/Library/Python/3.8/lib/python/site-packages (from jupyter-client>=6.1.12->ipykernel) (0.4)\n",
      "Requirement already satisfied: python-dateutil>=2.1 in /Users/KDY/Library/Python/3.8/lib/python/site-packages (from jupyter-client>=6.1.12->ipykernel) (2.8.2)\n",
      "Requirement already satisfied: pyzmq>=13 in /Users/KDY/Library/Python/3.8/lib/python/site-packages (from jupyter-client>=6.1.12->ipykernel) (22.3.0)\n",
      "Requirement already satisfied: jupyter-core>=4.6.0 in /Users/KDY/Library/Python/3.8/lib/python/site-packages (from jupyter-client>=6.1.12->ipykernel) (4.9.2)\n",
      "Requirement already satisfied: pyparsing!=3.0.5,>=2.0.2 in /Users/KDY/Library/Python/3.8/lib/python/site-packages (from packaging->ipykernel) (3.0.7)\n",
      "Requirement already satisfied: parso<0.9.0,>=0.8.0 in /Users/KDY/Library/Python/3.8/lib/python/site-packages (from jedi>=0.16->ipython>=7.23.1->ipykernel) (0.8.3)\n",
      "Requirement already satisfied: ptyprocess>=0.5 in /Users/KDY/Library/Python/3.8/lib/python/site-packages (from pexpect>4.3->ipython>=7.23.1->ipykernel) (0.7.0)\n",
      "Requirement already satisfied: wcwidth in /Users/KDY/Library/Python/3.8/lib/python/site-packages (from prompt-toolkit!=3.0.0,!=3.0.1,<3.1.0,>=2.0.0->ipython>=7.23.1->ipykernel) (0.2.5)\n",
      "Requirement already satisfied: six>=1.5 in /Library/Developer/CommandLineTools/Library/Frameworks/Python3.framework/Versions/3.8/lib/python3.8/site-packages (from python-dateutil>=2.1->jupyter-client>=6.1.12->ipykernel) (1.15.0)\n",
      "Requirement already satisfied: pure-eval in /Users/KDY/Library/Python/3.8/lib/python/site-packages (from stack-data->ipython>=7.23.1->ipykernel) (0.2.2)\n",
      "Requirement already satisfied: executing in /Users/KDY/Library/Python/3.8/lib/python/site-packages (from stack-data->ipython>=7.23.1->ipykernel) (0.8.3)\n",
      "Requirement already satisfied: asttokens in /Users/KDY/Library/Python/3.8/lib/python/site-packages (from stack-data->ipython>=7.23.1->ipykernel) (2.0.5)\n",
      "Building wheels for collected packages: psutil\n",
      "  Building wheel for psutil (setup.py) ... \u001b[?25ldone\n",
      "\u001b[?25h  Created wheel for psutil: filename=psutil-5.9.0-cp38-cp38-macosx_10_14_arm64.whl size=265037 sha256=f0387d64b40cac0b2122efef545002d782b3d7c75676f0b52897fc37c6ffd805\n",
      "  Stored in directory: /Users/KDY/Library/Caches/pip/wheels/9c/28/d8/45cbe6aa547b8b581dfa337cb3aaec76f3029d22f1199fff9e\n",
      "Successfully built psutil\n",
      "Installing collected packages: psutil, ipykernel\n",
      "  Attempting uninstall: ipykernel\n",
      "    Found existing installation: ipykernel 6.9.1\n",
      "    Uninstalling ipykernel-6.9.1:\n",
      "      Successfully uninstalled ipykernel-6.9.1\n",
      "Successfully installed ipykernel-6.12.0 psutil-5.9.0\n"
     ]
    }
   ],
   "source": [
    "!pip3 install -U ipykernel"
   ]
  },
  {
   "cell_type": "code",
   "execution_count": null,
   "id": "6c9c2bc1",
   "metadata": {},
   "outputs": [],
   "source": [
    "import cv2\n",
    "cap = cv2.VideoCapture('video.mp4')\n",
    "\n",
    "while cap.isOpened(): # 동영상 파일이 올바로 열렸는지?\n",
    "    ret, frame = cap.read() # ret : 성공 여부,  frame : 받아온 이미지 (프레임)\n",
    "    if not ret:\n",
    "        print('더 이상 가져올 프레임이 없어요')\n",
    "        break\n",
    "        \n",
    "    cv2.imshow('video', frame)\n",
    "    \n",
    "    if cv2.waitKey(1) == ord('q'):\n",
    "        print('사용자 입력에 의해 종료합니다')\n",
    "        break\n",
    "        \n",
    "cap.release() # 자원 해제\n",
    "cv2.destroyAllWindows() # 모든 창 닫기\n",
    "cv2.waitKey(1)\n",
    "cv2.waitKey(1)\n",
    "cv2.waitKey(1)\n",
    "cv2.waitKey(1)"
   ]
  },
  {
   "cell_type": "markdown",
   "id": "b21d35cc",
   "metadata": {},
   "source": [
    "## 카메라 출력"
   ]
  },
  {
   "cell_type": "code",
   "execution_count": 5,
   "id": "ecaa8fb6",
   "metadata": {},
   "outputs": [],
   "source": [
    "import cv2\n",
    "cap = cv2.VideoCapture(0) # 0번째 카메라 장치 (Device ID)\n",
    "\n",
    "if not cap.isOpened(): # 카메라가 잘 열리지 않은 경우\n",
    "    exit() # 프로그램 종료\n",
    "    \n",
    "while True:\n",
    "    ret, frame = cap.read()\n",
    "    if not ret:\n",
    "        break\n",
    "        \n",
    "    cv2.imshow('camera', frame)\n",
    "    if cv2.waitKey(1) == ord('q'): # 사용자가 q 를 입력하면 \n",
    "        break\n",
    "        \n",
    "cap.release()\n",
    "cv2.destroyAllWindows()\n",
    "cv2.waitKey(1)\n",
    "cv2.waitKey(1)\n",
    "cv2.waitKey(1)\n",
    "cv2.waitKey(1)"
   ]
  }
 ],
 "metadata": {
  "kernelspec": {
   "display_name": "Python 3",
   "language": "python",
   "name": "python3"
  },
  "language_info": {
   "codemirror_mode": {
    "name": "ipython",
    "version": 3
   },
   "file_extension": ".py",
   "mimetype": "text/x-python",
   "name": "python",
   "nbconvert_exporter": "python",
   "pygments_lexer": "ipython3",
   "version": "3.8.9"
  }
 },
 "nbformat": 4,
 "nbformat_minor": 5
}
